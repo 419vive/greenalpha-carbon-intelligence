{
  "cells": [
    {
      "cell_type": "raw",
      "metadata": {
        "vscode": {
          "languageId": "raw"
        }
      },
      "source": [
        "# 🔍 IEEE Fraud Detection - Data Exploration\n",
        "\n",
        "## 目标 (Objectives)\n",
        "1. **数据结构分析** - Analyze dataset structure and features\n",
        "2. **数据质量评估** - Assess data quality and missing values \n",
        "3. **欺诈模式发现** - Discover fraud patterns and indicators\n",
        "4. **特征分布理解** - Understand feature distributions\n",
        "\n",
        "## 数据集概览 (Dataset Overview)\n",
        "- **train_transaction.csv** (652MB) - Training transaction data\n",
        "- **train_identity.csv** (25MB) - Training identity features\n",
        "- **test_transaction.csv** (585MB) - Test transaction data  \n",
        "- **test_identity.csv** (25MB) - Test identity features\n",
        "- **sample_submission.csv** (5.8MB) - Submission format\n"
      ]
    },
    {
      "cell_type": "code",
      "execution_count": null,
      "metadata": {},
      "outputs": [],
      "source": [
        "# 导入必要的库 (Import necessary libraries)\n",
        "import pandas as pd\n",
        "import numpy as np\n",
        "import matplotlib.pyplot as plt\n",
        "import seaborn as sns\n",
        "import warnings\n",
        "warnings.filterwarnings('ignore')\n",
        "\n",
        "# 设置显示选项\n",
        "pd.set_option('display.max_columns', 100)\n",
        "pd.set_option('display.max_rows', 100)\n",
        "\n",
        "# 设置图表样式\n",
        "plt.style.use('default')\n",
        "sns.set_palette(\"husl\")\n",
        "\n",
        "print(\"📊 数据探索开始！(Data exploration started!)\")\n"
      ]
    }
  ],
  "metadata": {
    "language_info": {
      "name": "python"
    }
  },
  "nbformat": 4,
  "nbformat_minor": 2
}
